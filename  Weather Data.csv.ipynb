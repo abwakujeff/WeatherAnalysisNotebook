{
 "cells": [
  {
   "cell_type": "code",
   "execution_count": 1,
   "id": "27a65d3d-8c48-4536-8005-e452ba24cd4f",
   "metadata": {},
   "outputs": [],
   "source": [
    "import pandas as pd"
   ]
  },
  {
   "cell_type": "markdown",
   "id": "b7b5202f-c9cb-44ad-b58e-b93ef99d421b",
   "metadata": {},
   "source": [
    "**1. Find all records where the weather was exactly clear.**\n",
    "Steps:  \n",
    "-Load the dataset into a DataFrame.  \n",
    "-Filter the DataFrame where the \"Weather\" column is equal to \"Clear\"."
   ]
  },
  {
   "cell_type": "code",
   "execution_count": 3,
   "id": "be0299a2-c4a1-4777-9a3d-e75daeb4b77c",
   "metadata": {},
   "outputs": [
    {
     "data": {
      "text/html": [
       "<div>\n",
       "<style scoped>\n",
       "    .dataframe tbody tr th:only-of-type {\n",
       "        vertical-align: middle;\n",
       "    }\n",
       "\n",
       "    .dataframe tbody tr th {\n",
       "        vertical-align: top;\n",
       "    }\n",
       "\n",
       "    .dataframe thead th {\n",
       "        text-align: right;\n",
       "    }\n",
       "</style>\n",
       "<table border=\"1\" class=\"dataframe\">\n",
       "  <thead>\n",
       "    <tr style=\"text-align: right;\">\n",
       "      <th></th>\n",
       "      <th>Date/Time</th>\n",
       "      <th>Temp_C</th>\n",
       "      <th>Dew Point Temp_C</th>\n",
       "      <th>Rel Hum_%</th>\n",
       "      <th>Wind Speed_km/h</th>\n",
       "      <th>Visibility_km</th>\n",
       "      <th>Press_kPa</th>\n",
       "      <th>Weather</th>\n",
       "    </tr>\n",
       "  </thead>\n",
       "  <tbody>\n",
       "    <tr>\n",
       "      <th>0</th>\n",
       "      <td>1/1/2012 0:00</td>\n",
       "      <td>-1.8</td>\n",
       "      <td>-3.9</td>\n",
       "      <td>86</td>\n",
       "      <td>4</td>\n",
       "      <td>8.0</td>\n",
       "      <td>101.24</td>\n",
       "      <td>Fog</td>\n",
       "    </tr>\n",
       "    <tr>\n",
       "      <th>1</th>\n",
       "      <td>1/1/2012 1:00</td>\n",
       "      <td>-1.8</td>\n",
       "      <td>-3.7</td>\n",
       "      <td>87</td>\n",
       "      <td>4</td>\n",
       "      <td>8.0</td>\n",
       "      <td>101.24</td>\n",
       "      <td>Fog</td>\n",
       "    </tr>\n",
       "    <tr>\n",
       "      <th>2</th>\n",
       "      <td>1/1/2012 2:00</td>\n",
       "      <td>-1.8</td>\n",
       "      <td>-3.4</td>\n",
       "      <td>89</td>\n",
       "      <td>7</td>\n",
       "      <td>4.0</td>\n",
       "      <td>101.26</td>\n",
       "      <td>Freezing Drizzle,Fog</td>\n",
       "    </tr>\n",
       "    <tr>\n",
       "      <th>3</th>\n",
       "      <td>1/1/2012 3:00</td>\n",
       "      <td>-1.5</td>\n",
       "      <td>-3.2</td>\n",
       "      <td>88</td>\n",
       "      <td>6</td>\n",
       "      <td>4.0</td>\n",
       "      <td>101.27</td>\n",
       "      <td>Freezing Drizzle,Fog</td>\n",
       "    </tr>\n",
       "    <tr>\n",
       "      <th>4</th>\n",
       "      <td>1/1/2012 4:00</td>\n",
       "      <td>-1.5</td>\n",
       "      <td>-3.3</td>\n",
       "      <td>88</td>\n",
       "      <td>7</td>\n",
       "      <td>4.8</td>\n",
       "      <td>101.23</td>\n",
       "      <td>Fog</td>\n",
       "    </tr>\n",
       "    <tr>\n",
       "      <th>...</th>\n",
       "      <td>...</td>\n",
       "      <td>...</td>\n",
       "      <td>...</td>\n",
       "      <td>...</td>\n",
       "      <td>...</td>\n",
       "      <td>...</td>\n",
       "      <td>...</td>\n",
       "      <td>...</td>\n",
       "    </tr>\n",
       "    <tr>\n",
       "      <th>8779</th>\n",
       "      <td>12/31/2012 19:00</td>\n",
       "      <td>0.1</td>\n",
       "      <td>-2.7</td>\n",
       "      <td>81</td>\n",
       "      <td>30</td>\n",
       "      <td>9.7</td>\n",
       "      <td>100.13</td>\n",
       "      <td>Snow</td>\n",
       "    </tr>\n",
       "    <tr>\n",
       "      <th>8780</th>\n",
       "      <td>12/31/2012 20:00</td>\n",
       "      <td>0.2</td>\n",
       "      <td>-2.4</td>\n",
       "      <td>83</td>\n",
       "      <td>24</td>\n",
       "      <td>9.7</td>\n",
       "      <td>100.03</td>\n",
       "      <td>Snow</td>\n",
       "    </tr>\n",
       "    <tr>\n",
       "      <th>8781</th>\n",
       "      <td>12/31/2012 21:00</td>\n",
       "      <td>-0.5</td>\n",
       "      <td>-1.5</td>\n",
       "      <td>93</td>\n",
       "      <td>28</td>\n",
       "      <td>4.8</td>\n",
       "      <td>99.95</td>\n",
       "      <td>Snow</td>\n",
       "    </tr>\n",
       "    <tr>\n",
       "      <th>8782</th>\n",
       "      <td>12/31/2012 22:00</td>\n",
       "      <td>-0.2</td>\n",
       "      <td>-1.8</td>\n",
       "      <td>89</td>\n",
       "      <td>28</td>\n",
       "      <td>9.7</td>\n",
       "      <td>99.91</td>\n",
       "      <td>Snow</td>\n",
       "    </tr>\n",
       "    <tr>\n",
       "      <th>8783</th>\n",
       "      <td>12/31/2012 23:00</td>\n",
       "      <td>0.0</td>\n",
       "      <td>-2.1</td>\n",
       "      <td>86</td>\n",
       "      <td>30</td>\n",
       "      <td>11.3</td>\n",
       "      <td>99.89</td>\n",
       "      <td>Snow</td>\n",
       "    </tr>\n",
       "  </tbody>\n",
       "</table>\n",
       "<p>8784 rows × 8 columns</p>\n",
       "</div>"
      ],
      "text/plain": [
       "             Date/Time  Temp_C  Dew Point Temp_C  Rel Hum_%  Wind Speed_km/h  \\\n",
       "0        1/1/2012 0:00    -1.8              -3.9         86                4   \n",
       "1        1/1/2012 1:00    -1.8              -3.7         87                4   \n",
       "2        1/1/2012 2:00    -1.8              -3.4         89                7   \n",
       "3        1/1/2012 3:00    -1.5              -3.2         88                6   \n",
       "4        1/1/2012 4:00    -1.5              -3.3         88                7   \n",
       "...                ...     ...               ...        ...              ...   \n",
       "8779  12/31/2012 19:00     0.1              -2.7         81               30   \n",
       "8780  12/31/2012 20:00     0.2              -2.4         83               24   \n",
       "8781  12/31/2012 21:00    -0.5              -1.5         93               28   \n",
       "8782  12/31/2012 22:00    -0.2              -1.8         89               28   \n",
       "8783  12/31/2012 23:00     0.0              -2.1         86               30   \n",
       "\n",
       "      Visibility_km  Press_kPa               Weather  \n",
       "0               8.0     101.24                   Fog  \n",
       "1               8.0     101.24                   Fog  \n",
       "2               4.0     101.26  Freezing Drizzle,Fog  \n",
       "3               4.0     101.27  Freezing Drizzle,Fog  \n",
       "4               4.8     101.23                   Fog  \n",
       "...             ...        ...                   ...  \n",
       "8779            9.7     100.13                  Snow  \n",
       "8780            9.7     100.03                  Snow  \n",
       "8781            4.8      99.95                  Snow  \n",
       "8782            9.7      99.91                  Snow  \n",
       "8783           11.3      99.89                  Snow  \n",
       "\n",
       "[8784 rows x 8 columns]"
      ]
     },
     "execution_count": 3,
     "metadata": {},
     "output_type": "execute_result"
    }
   ],
   "source": [
    "pd.read_csv(r'C:\\Users\\hp\\Desktop\\Lux\\Datasets\\Weather Data.csv')"
   ]
  },
  {
   "cell_type": "code",
   "execution_count": 5,
   "id": "adf8e129-2e51-4451-b24c-bc0ef7692827",
   "metadata": {},
   "outputs": [],
   "source": [
    "data = pd.read_csv(r'C:\\Users\\hp\\Desktop\\Lux\\Datasets\\Weather Data.csv')"
   ]
  },
  {
   "cell_type": "code",
   "execution_count": 6,
   "id": "bcd913b8-4b2f-4a43-879f-34aac496c555",
   "metadata": {},
   "outputs": [],
   "source": [
    "# Filter for records where the weather was exactly clear\n",
    "clear_weather = data[data['Weather'] == 'Clear']"
   ]
  },
  {
   "cell_type": "markdown",
   "id": "13f7165e-e286-455b-b108-9693cbfd1204",
   "metadata": {},
   "source": [
    "**2. Find the number of times the wind speed was exactly 4 km/hr.**  \n",
    "Steps:  \n",
    "\n",
    "-Use the **value_counts()** method on the \"Wind Speed_km/h\" column to count occurrences of each speed.  \n",
    "-Alternatively, use the **sum()** method after a boolean condition check"
   ]
  },
  {
   "cell_type": "code",
   "execution_count": 7,
   "id": "79a8cb68-e9b0-423c-a107-5f011a1fc09c",
   "metadata": {},
   "outputs": [],
   "source": [
    "# Method 1: Using value_counts\n",
    "wind_speed_counts = data['Wind Speed_km/h'].value_counts()\n",
    "times_wind_speed_4 = wind_speed_counts[4]"
   ]
  },
  {
   "cell_type": "code",
   "execution_count": 8,
   "id": "9ece035a-acd8-409f-a07e-83ae1ca141c7",
   "metadata": {},
   "outputs": [],
   "source": [
    "# Method 2: Using sum on a boolean condition\n",
    "times_wind_speed_4 = (data['Wind Speed_km/h'] == 4).sum()"
   ]
  },
  {
   "cell_type": "markdown",
   "id": "3439f9f8-1af4-4d6d-8a94-c6c7e4b24950",
   "metadata": {},
   "source": [
    "**3. Check if there are any NULL values present in the dataset.**\n",
    "Steps:  \n",
    "\n",
    "-Use the **isnull()** method combined with sum() to find the number of null values in each column.  \n",
    "-Use **any()** to check if there are any null values in the entire DataFrame"
   ]
  },
  {
   "cell_type": "code",
   "execution_count": 11,
   "id": "a4de2bbb-d2a4-497d-9509-126e9fe6f2a3",
   "metadata": {},
   "outputs": [],
   "source": [
    "# Check for null values in each column\n",
    "null_values_per_column = data.isnull().sum()"
   ]
  },
  {
   "cell_type": "code",
   "execution_count": 12,
   "id": "7d0c4894-8354-4fbc-91fc-066d86ae10d6",
   "metadata": {},
   "outputs": [],
   "source": [
    "# Check if there are any null values in the entire dataset\n",
    "any_null_values = data.isnull().any().any()"
   ]
  },
  {
   "cell_type": "markdown",
   "id": "49d9c6d4-ffc4-47be-9aa0-48ec0a2307d9",
   "metadata": {},
   "source": [
    "**4. Rename the column \"Weather\" to \"Weather_Condition.\"**\n",
    "Steps:  \n",
    "\n",
    "Use the **rename()** method on the DataFrame."
   ]
  },
  {
   "cell_type": "code",
   "execution_count": 13,
   "id": "9e4e0dc1-bdae-4579-bbe3-2af1be6437f3",
   "metadata": {},
   "outputs": [],
   "source": [
    "# Rename the column \"Weather\" to \"Weather_Condition\"\n",
    "data.rename(columns={'Weather': 'Weather_Condition'}, inplace=True)"
   ]
  },
  {
   "cell_type": "markdown",
   "id": "a6572ed3-4e18-42f0-a200-038be6f938c4",
   "metadata": {},
   "source": [
    "**5. What is the mean visibility of the dataset?**\n",
    "Steps:\n",
    "\n",
    "Use the **mean()** method on the \"Visibility_km\" column."
   ]
  },
  {
   "cell_type": "code",
   "execution_count": 14,
   "id": "ceb32aa8-08b4-4e01-ae2f-656c9686e655",
   "metadata": {},
   "outputs": [],
   "source": [
    "# Calculate the mean visibility\n",
    "mean_visibility = data['Visibility_km'].mean()\n"
   ]
  },
  {
   "cell_type": "markdown",
   "id": "a05ebc60-ef41-4b12-b84a-48df27c8dafd",
   "metadata": {},
   "source": [
    "**6. Find the number of records where the wind speed is greater than 24 km/hr and visibility is equal to 25 km.**\n",
    "Steps:  \n",
    "\n",
    "Use a boolean condition to filter the DataFrame."
   ]
  },
  {
   "cell_type": "code",
   "execution_count": 15,
   "id": "6129d106-eb47-4262-b5ba-e93dd753da4b",
   "metadata": {},
   "outputs": [],
   "source": [
    "# Filter for records with wind speed > 24 km/hr and visibility = 25 km\n",
    "specific_conditions = data[(data['Wind Speed_km/h'] > 24) & (data['Visibility_km'] == 25)]\n",
    "number_of_records = specific_conditions.shape[0]"
   ]
  },
  {
   "cell_type": "markdown",
   "id": "7a029621-93b9-470f-9407-6bac6bd39324",
   "metadata": {},
   "source": [
    "**7. What is the mean value of each column for each weather condition?**\n",
    "Steps:\n",
    "\n",
    "Use the **groupby()** method on the \"Weather_Condition\" column.\n",
    "Apply the **mean()** method to get the mean for each grou"
   ]
  },
  {
   "cell_type": "code",
   "execution_count": 17,
   "id": "d7f7cc70-3ae2-4907-b340-4bb2b4487429",
   "metadata": {},
   "outputs": [],
   "source": [
    "# Mean value of each column for each weather condition\n",
    "mean_values_per_condition = data.groupby('Weather_Condition').mean(numeric_only=True)"
   ]
  },
  {
   "cell_type": "markdown",
   "id": "da597581-199b-4de5-9be6-4ed83fba7c69",
   "metadata": {},
   "source": [
    "**8. Find all instances where the weather is clear and the relative humidity is greater than 50, or visibility is above 40.**\n",
    "Steps:  \n",
    "\n",
    "Use boolean conditions to filter the DataFrame with logical operators."
   ]
  },
  {
   "cell_type": "code",
   "execution_count": 18,
   "id": "460e3fe2-f544-459f-91d9-cb7eca634877",
   "metadata": {},
   "outputs": [],
   "source": [
    "# Filter for the specified conditions\n",
    "filtered_data = data[((data['Weather_Condition'] == 'Clear') & (data['Rel Hum_%'] > 50)) |\n",
    "                     (data['Visibility_km'] > 40)]"
   ]
  },
  {
   "cell_type": "markdown",
   "id": "c8f1881e-b79b-41fb-a9b6-c5db7a5c17a1",
   "metadata": {},
   "source": [
    "**9. Find the number of weather conditions that include snow.**\n",
    "Steps:  \n",
    "\n",
    "Use the **str.contains()** method on the \"Weather_Condition\" column to identify rows containing \"Snow\"."
   ]
  },
  {
   "cell_type": "code",
   "execution_count": 19,
   "id": "f12eed79-d00d-4154-ac92-933d147209e4",
   "metadata": {},
   "outputs": [],
   "source": [
    "# Find weather conditions that include \"Snow\"\n",
    "snow_conditions = data['Weather_Condition'].str.contains('Snow', case=False, na=False)\n",
    "number_of_snow_conditions = snow_conditions.sum()"
   ]
  },
  {
   "cell_type": "code",
   "execution_count": null,
   "id": "5dfd7141-7f31-4d15-8de7-326c034fee2f",
   "metadata": {},
   "outputs": [],
   "source": []
  }
 ],
 "metadata": {
  "kernelspec": {
   "display_name": "Python 3 (ipykernel)",
   "language": "python",
   "name": "python3"
  },
  "language_info": {
   "codemirror_mode": {
    "name": "ipython",
    "version": 3
   },
   "file_extension": ".py",
   "mimetype": "text/x-python",
   "name": "python",
   "nbconvert_exporter": "python",
   "pygments_lexer": "ipython3",
   "version": "3.11.7"
  }
 },
 "nbformat": 4,
 "nbformat_minor": 5
}
